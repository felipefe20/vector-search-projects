{
 "cells": [
  {
   "cell_type": "code",
   "execution_count": 4,
   "metadata": {},
   "outputs": [
    {
     "name": "stdout",
     "output_type": "stream",
     "text": [
      "['Action', 'Adventure', 'Animation', 'Biography', 'Comedy', 'Crime', 'Documentary', 'Drama', 'Family', 'Fantasy', 'Film-Noir', 'History', 'Horror', 'Music', 'Musical', 'Mystery', 'News', 'Romance', 'Sci-Fi', 'Short', 'Sport', 'Talk-Show', 'Thriller', 'War', 'Western']\n"
     ]
    }
   ],
   "source": [
    "from pymongo import MongoClient\n",
    "import os\n",
    "from dotenv import load_dotenv\n",
    "\n",
    "# Load the environment variables\n",
    "load_dotenv()\n",
    "\n",
    "uri = os.getenv('MONGODB_URI')\n",
    "client = MongoClient(uri)\n",
    "# Connect to the MongoDB client\n",
    "# Select the database\n",
    "db = client['sample_mflix']\n",
    "\n",
    "# Select the collection\n",
    "collection = db['movies']\n",
    "\n",
    "# Get all distinct values for the field\n",
    "distinct_values = collection.distinct('genres')\n",
    "\n",
    "print(distinct_values)"
   ]
  },
  {
   "cell_type": "code",
   "execution_count": 1,
   "metadata": {},
   "outputs": [],
   "source": [
    "#import streamlit as st\n",
    "from mongo_hugginface import EmbeddingsUtil\n",
    "\n",
    "# Initialize the embeddings utility\n",
    "embeddings_util = EmbeddingsUtil()\n",
    "\n",
    "\n",
    "user_input =\"Outer space\"\n",
    "genre_filter=[]\n",
    "year_filter=[]\n",
    "rated_filter=[\"Any\"]\n",
    "results = embeddings_util.search_movies(user_input,genre_filter, year_filter, rated_filter)\n",
    "\n"
   ]
  },
  {
   "cell_type": "code",
   "execution_count": 2,
   "metadata": {},
   "outputs": [
    {
     "name": "stdout",
     "output_type": "stream",
     "text": [
      "In the Land of the Head Hunters\n",
      "Upstream\n",
      "The Italian\n",
      "Four Sons\n"
     ]
    }
   ],
   "source": [
    "for document in results:\n",
    "    print(document['title'])"
   ]
  },
  {
   "cell_type": "code",
   "execution_count": null,
   "metadata": {},
   "outputs": [],
   "source": []
  }
 ],
 "metadata": {
  "kernelspec": {
   "display_name": "movies-database-project",
   "language": "python",
   "name": "python3"
  },
  "language_info": {
   "codemirror_mode": {
    "name": "ipython",
    "version": 3
   },
   "file_extension": ".py",
   "mimetype": "text/x-python",
   "name": "python",
   "nbconvert_exporter": "python",
   "pygments_lexer": "ipython3",
   "version": "3.12.4"
  }
 },
 "nbformat": 4,
 "nbformat_minor": 2
}
