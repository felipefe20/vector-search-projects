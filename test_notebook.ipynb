{
 "cells": [
  {
   "cell_type": "code",
   "execution_count": 5,
   "metadata": {},
   "outputs": [
    {
     "name": "stdout",
     "output_type": "stream",
     "text": [
      "[' Ancient (to 1453)', ' Old', 'Abkhazian', 'Aboriginal', 'Acholi', 'Afrikaans', 'Aidoukrou', 'Albanian', 'Algonquin', 'American Sign Language', 'Amharic', 'Apache languages', 'Arabic', 'Aramaic', 'Arapaho', 'Armenian', 'Assamese', 'Assyrian Neo-Aramaic', 'Athapascan languages', 'Awadhi', 'Aymara', 'Azerbaijani', 'Balinese', 'Bambara', 'Basque', 'Belarusian', 'Bengali', 'Berber languages', 'Bhojpuri', 'Bosnian', 'Brazilian Sign Language', 'Breton', 'British Sign Language', 'Bulgarian', 'Burmese', 'Cantonese', 'Catalan', 'Chechen', 'Cheyenne', 'Chinese', 'Cornish', 'Corsican', 'Cree', 'Creole', 'Creoles and pidgins', 'Croatian', 'Crow', 'Czech', 'Danish', 'Dari', 'Dinka', 'Dutch', 'Dyula', 'Dzongkha', 'Eastern Frisian', 'Egyptian (Ancient)', 'English', 'Esperanto', 'Estonian', 'Ewe', 'Faroese', 'Filipino', 'Finnish', 'Flemish', 'French', 'French Sign Language', 'Frisian', 'Fulah', 'Fur', 'Gallegan', 'Georgian', 'German', 'German Sign Language', 'Greek', 'Greenlandic', 'Guarani', 'Gujarati', 'Gumatj', 'Haitian', 'Hakka', 'Hassanya', 'Hawaiian', 'Hebrew', 'Hindi', 'Hmong', 'Hokkien', 'Hungarian', 'Ibo', 'Icelandic', 'Indian Sign Language', 'Indonesian', 'Inuktitut', 'Inupiaq', 'Irish', 'Italian', 'Japanese', 'Japanese Sign Language', 'Jola-Fonyi', 'Kabuverdianu', 'Kabyle', 'Kannada', 'Karajè', 'Kazakh', 'Khmer', 'Kikuyu', 'Kinyarwanda', 'Kirghiz', 'Klingon', 'Konkani', 'Korean', 'Korean Sign Language', 'Kuna', 'Kurdish', 'Ladakhi', 'Ladino', 'Lao', 'Latin', 'Latvian', 'Lingala', 'Lithuanian', 'Low German', 'Luxembourgish', 'Macedonian', 'Malay', 'Malayalam', 'Maltese', 'Mandarin', 'Manipuri', 'Maori', 'Mapudungun', 'Marathi', 'Mari', 'Masai', 'Maya', 'Mende', 'Middle English', 'Min Nan', 'Mohawk', 'Mongolian', 'More', 'Nahuatl', 'Nama', 'Navajo', 'Neapolitan', 'Nenets', 'Nepali', 'Norse', 'North American Indian', 'Norwegian', 'Nyaneka', 'Nyanja', 'Occitan', 'Old English', 'Oriya', 'Panjabi', 'Pawnee', 'Persian', 'Peul', 'Polish', 'Portuguese', 'Purepecha', 'Pushto', 'Quechua', 'Quenya', 'Rajasthani', 'Romanian', 'Romany', 'Russian', 'Russian Sign Language', 'Ryukyuan', 'Saami', 'Samoan', 'Sanskrit', 'Sardinian', 'Scanian', 'Scots', 'Scottish Gaelic', 'Serbian', 'Serbo-Croatian', 'Shanghainese', 'Shanxi', 'Shona', 'Shoshoni', 'Sicilian', 'Sign Languages', 'Sindarin', 'Sinhalese', 'Sioux', 'Slovak', 'Slovenian', 'Somali', 'Songhay', 'Southern Sotho', 'Spanish', 'Spanish Sign Language', 'Swahili', 'Swedish', 'Swiss German', 'Syriac', 'Tagalog', 'Tajik', 'Tamil', 'Tarahumara', 'Tatar', 'Telugu', 'Thai', 'Tibetan', 'Tigrigna', 'Tok Pisin', 'Tonga', 'Tswana', 'Tulu', 'Tupi', 'Turkish', 'Turkmen', 'Tuvinian', 'Tzotzil', 'Uighur', 'Ukrainian', 'Ungwatsi', 'Urdu', 'Uzbek', 'Vietnamese', 'Visayan', 'Washoe', 'Welsh', 'Wolof', 'Xhosa', 'Yiddish', 'Yoruba', 'Zulu']\n"
     ]
    }
   ],
   "source": [
    "from pymongo import MongoClient\n",
    "import os\n",
    "from dotenv import load_dotenv\n",
    "\n",
    "# Load the environment variables\n",
    "load_dotenv()\n",
    "\n",
    "uri = os.getenv('MONGODB_URI')\n",
    "client = MongoClient(uri)\n",
    "# Connect to the MongoDB client\n",
    "# Select the database\n",
    "db = client['sample_mflix']\n",
    "\n",
    "# Select the collection\n",
    "collection = db['movies']\n",
    "\n",
    "# Get all distinct values for the field\n",
    "distinct_values = collection.distinct('languages')\n",
    "\n",
    "print(distinct_values)"
   ]
  },
  {
   "cell_type": "code",
   "execution_count": 13,
   "metadata": {},
   "outputs": [],
   "source": [
    "#import streamlit as st\n",
    "from mongo_hugginface import EmbeddingsUtil\n",
    "\n",
    "# Initialize the embeddings utility\n",
    "embeddings_util = EmbeddingsUtil()\n",
    "\n",
    "\n",
    "user_input =\"Outer space\"\n",
    "genre_filter=[]\n",
    "year_filter=[]\n",
    "rated_filter=[\"Any\"]\n",
    "results = embeddings_util.search_movies(user_input,genre_filter, year_filter, rated_filter)\n",
    "\n"
   ]
  },
  {
   "cell_type": "code",
   "execution_count": 14,
   "metadata": {},
   "outputs": [
    {
     "name": "stdout",
     "output_type": "stream",
     "text": [
      "Cosmos\n",
      "Saturn 3\n",
      "Saturn 3\n",
      "Dark Star\n"
     ]
    }
   ],
   "source": [
    "for document in results:\n",
    "    print(document['title'])"
   ]
  },
  {
   "cell_type": "code",
   "execution_count": 19,
   "metadata": {},
   "outputs": [
    {
     "data": {
      "text/plain": [
       "<pymongo.command_cursor.CommandCursor at 0x1dfa44cc4a0>"
      ]
     },
     "execution_count": 19,
     "metadata": {},
     "output_type": "execute_result"
    }
   ],
   "source": [
    "results"
   ]
  },
  {
   "cell_type": "code",
   "execution_count": 16,
   "metadata": {},
   "outputs": [],
   "source": [
    "for i in results:\n",
    "    print(i)\n",
    "    document=collection.find_one({\"_id\":i[\"_id\"]})\n",
    "    print(f'Movie Name: {document[\"title\"]},\\nMovie Plot: {document[\"plot\"]}\\n',\n",
    "            \"score:\", i[\"score\"], \"\\n\")\n",
    "    "
   ]
  },
  {
   "cell_type": "code",
   "execution_count": 6,
   "metadata": {},
   "outputs": [
    {
     "name": "stdout",
     "output_type": "stream",
     "text": [
      "4919\n"
     ]
    }
   ],
   "source": [
    "count = collection.count_documents({\"plot_embedding_hf\": {\"$exists\": True}})\n",
    "print(count)"
   ]
  },
  {
   "cell_type": "code",
   "execution_count": 1,
   "metadata": {},
   "outputs": [
    {
     "name": "stdout",
     "output_type": "stream",
     "text": [
      "{'genres': {'$in': ['Action']}}\n"
     ]
    }
   ],
   "source": [
    "import streamlit as st\n",
    "from mongo_hugginface import EmbeddingsUtil\n",
    "\n",
    "# Initialize the embeddings utility\n",
    "embeddings_util = EmbeddingsUtil()\n",
    "collection=embeddings_util.collection\n",
    "\n",
    "user_input =\"Outer space\"\n",
    "genre_filter=[\"Action\"]\n",
    "year_filter=[1901,2023]\n",
    "rated_filter=[\"Any\"]\n",
    "\n",
    "results = embeddings_util.search_movies(user_input, genre_filter, year_filter, rated_filter)\n",
    "#st.write(\"results\", results)\n",
    "for i in results:\n",
    "    document=collection.find_one({\"_id\":i[\"_id\"]})\n",
    "    #print(document)\n",
    "    print(f'Movie Name: {document[\"title\"]},\\nMovie Plot: {document[\"fullplot\"]}\\n',\n",
    "        \"score:\", i[\"score\"], \"\\n\")\n"
   ]
  },
  {
   "cell_type": "code",
   "execution_count": null,
   "metadata": {},
   "outputs": [],
   "source": []
  }
 ],
 "metadata": {
  "kernelspec": {
   "display_name": "movies-database-project",
   "language": "python",
   "name": "python3"
  },
  "language_info": {
   "codemirror_mode": {
    "name": "ipython",
    "version": 3
   },
   "file_extension": ".py",
   "mimetype": "text/x-python",
   "name": "python",
   "nbconvert_exporter": "python",
   "pygments_lexer": "ipython3",
   "version": "3.12.4"
  }
 },
 "nbformat": 4,
 "nbformat_minor": 2
}
